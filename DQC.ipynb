{
  "nbformat": 4,
  "nbformat_minor": 0,
  "metadata": {
    "colab": {
      "provenance": []
    },
    "kernelspec": {
      "name": "python3",
      "display_name": "Python 3"
    },
    "language_info": {
      "name": "python"
    }
  },
  "cells": [
    {
      "cell_type": "markdown",
      "source": [
        "# Data Engineer Assessment\n",
        "## UC02: TTD_DE_UC02_DQC: Add Data Quality Checks to the Data Engineering Pipeline. Address Any Data Quality Issues"
      ],
      "metadata": {
        "id": "EHdmmBKSfU7m"
      }
    },
    {
      "cell_type": "markdown",
      "source": [
        "## Goal\n",
        "As a data engineer, I want to setup quality checks to ensure that the data that is provided to business is of good quality and fit for use.\n",
        "\n",
        "## Summary\n",
        "It is important to ensure that the data provides meets the data quality standards setup by the organization and the data is fit for use.\n",
        "\n",
        "\n",
        "* __Problem Statement__ - Business has experienced data with issues such as duplicates in the data or inconsistent data types than those reported by the source.\n",
        "\n",
        "Business has asked the Data Engineering team to implement controls that ensure that the data is fit for use and detect any issues with the pipeline if this is not the case.\n",
        "\n",
        "* __Description__ - Lately, business is reporting that the data provide by the sources have several issues. This has caused incorrect reports to be generated and poor customer experience. Business has lost trust in the data due to the poor data quality\n",
        "\n",
        "* __Data Issues Reported__ : Business has documented and highlighted the following issues with the data over the last 3 months.\n",
        "\n",
        "  a. Data source systems changing the schema of the data without informing business.\n",
        "  b. Numerous duplicates in the sales_rep_master data in the data resulting in higher processing time and duplicates in the Semantic asset.\n",
        "  c. Vehicle VIN number columns not having the right length of fields or missing data. VIN Length - 17 Characters\n",
        "  d. Model Brand not in expected brand types - BMW, MINI, Rolls Royce or strings not matching the expectated format.\n",
        "  e. Data is not updated during the weekly build due to the source system not having the data available.\n",
        "\n",
        "* __Expected Outcome__ : Your manager has asked you to perform a Proof of Concept (PoC) of the Great Expectations Quality framework and demonstrate to the team the various features of the framework.\n",
        "\n",
        "You need to evaluate the features and functionality of the [`Great Expectations Quality framework`](https://greatexpectations.io/).\n",
        "\n",
        "1. The Framework must support integration with the AWS Platform and must be deployed on to AWS. The PoC demonstration must be done on your laptop locally.  \n",
        "\n",
        "2. The Framework must perform Schema Validation (including data type validation), data validation for VIN number (Length:17) and not null columns (VIN numbers). Other checks that are deemed suitable can also be added.\n",
        "3. The Framework must also detect if there are duplicates in the data.\n",
        "4. Provide a compliance report of the data on a sample datasets.\n",
        "5. Cost of the check is a concern for the IT department. Ensure that this is taken into account when implementing the checks.\n",
        "\n",
        "## Code Complexity\n",
        "- Low / Medium\n",
        "\n",
        "## `Diagram - Also refer PDF in folder`\n",
        "\n",
        "![Data Quality Checks](./TTD_DE_UC02_DQC.png\"Great Expectation Data Quality Checks\")\n",
        "\n"
      ],
      "metadata": {
        "id": "I5CzyDpRgtJG"
      }
    },
    {
      "cell_type": "markdown",
      "source": [
        "## Datasets:\n",
        "\n",
        "`File Location`: Refer to the attached `data` folder for information\n",
        "\n",
        "* Vehicles (vehicles.csv)  at the plants (plants.csv) are built to order (orders.csv) placed - order_number\n",
        "* Customer (customers.csv) provides reviews(welcome_call.csv) 60 to 80 days after the vehicles are delivered(vin).\n",
        "* Sales (sales_rep.csv) representatives are linked to dealership (dealers.csv) and have dealership names\n",
        "\n",
        "\n"
      ],
      "metadata": {
        "id": "EvLjeRgChxtp"
      }
    },
    {
      "cell_type": "markdown",
      "source": [
        "## Expected Outcomes:\n",
        "\n",
        "1. The Great Expectations framework must be used to perform the data quality checks.\n",
        "2. Atleast 5 different types of checks must be implemented on each dataset.  Explaination of why the check would be appropriate for the datast must be provided."
      ],
      "metadata": {
        "id": "4YcNCO2QUOsS"
      }
    },
    {
      "cell_type": "markdown",
      "source": [
        "### Libraries or Options used\n",
        "* Jupyter Notebook - Install and run locally on your laptop or device.\n",
        "* Great Expectations Framework (Note: Install if required)\n",
        "* PySpark, Pandas and matplot lib or similar plotting libraries\n",
        "\n",
        "\n"
      ],
      "metadata": {
        "id": "wg31xO4Tie_t"
      }
    },
    {
      "cell_type": "markdown",
      "source": [
        "## `Acceptance Criteria`\n",
        "\n",
        "1. Only the Great Expectations framework can be used for this exercise.\n",
        "2. Implement different types of checks on the three datasets (vehicles, customers, sales_rep) data and provide your findings.\n",
        "3. Explain the checks you have implemented and how it would be useful in detecting Data quality issues to the business.  Refer to the current challenges that business has highlighted.\n",
        "4. Explain how the framework would be useful when data is stored in an RDBMS such as MySQL. Illustrate the workflow using **draw.io** and export the output in pdf format.  Expected Output: draw.io diagram\n"
      ],
      "metadata": {
        "id": "MHg-Bj6rinNj"
      }
    },
    {
      "cell_type": "markdown",
      "source": [
        "# Implementation\n",
        "\n",
        "Provide all the implementation steps in the sections that follow. Ensure that you provide detailed explanations of the approach.\n"
      ],
      "metadata": {
        "id": "caDAkcnGisWu"
      }
    },
    {
      "cell_type": "markdown",
      "source": [
        "### Step 1: Import the libraries that you need for Great Expectations framework."
      ],
      "metadata": {
        "id": "_v2Rt81WjBE-"
      }
    },
    {
      "cell_type": "code",
      "source": [
        "# Import any relevant libraries\n",
        "import os\n",
        "import re\n",
        "\n",
        "import pandas as pd\n",
        "# Import the Great Expectations library below.\n",
        "# Note: You can pip install any libraries that you need into your environment.\n",
        "\n"
      ],
      "metadata": {
        "id": "0_mfc2MJi_do"
      },
      "execution_count": null,
      "outputs": []
    },
    {
      "cell_type": "markdown",
      "source": [
        "#### List of expected dataframes to be loaded\n",
        "\n",
        "\n",
        "  * Vehicles (vehicles.csv) - Provides information on the vehicles.\n",
        "  * Customer (customers.csv) - Provide information about the customers\n",
        "  * Sales (sales_rep.csv) Provides information about the sales_reps at the dealerships.\n"
      ],
      "metadata": {
        "id": "X3tZe7SHlNlF"
      }
    },
    {
      "cell_type": "markdown",
      "source": [
        "### Step 2: Load the data from the data folder into the data frame."
      ],
      "metadata": {
        "id": "nTC5CpH_jWSN"
      }
    },
    {
      "cell_type": "code",
      "execution_count": null,
      "metadata": {
        "id": "B8Cw2-CmfTn2"
      },
      "outputs": [],
      "source": [
        "# Write your code below to load the relevant data into a pandas dataframe and make it available to Great Expectations."
      ]
    },
    {
      "cell_type": "markdown",
      "source": [
        "#### Question: Did you face any challenges when setting up the environment as well as with the dataset. How did you resolve these challenges\n",
        "\n",
        "#### *Answer*: Replace with your response\n",
        "\n"
      ],
      "metadata": {
        "id": "uHeEOIeLkDfA"
      }
    },
    {
      "cell_type": "markdown",
      "source": [],
      "metadata": {
        "id": "MigPGOPXXbZe"
      }
    },
    {
      "cell_type": "markdown",
      "source": [
        "### Step 3: Explore your data and provide some column and statistical information\n",
        " Provide some statistical information about the data you just loaded\n"
      ],
      "metadata": {
        "id": "gU_MuP2KkeRP"
      }
    },
    {
      "cell_type": "code",
      "source": [
        "# Write code to provide statistical information about each dataframe that you just loaded.\n",
        "\n"
      ],
      "metadata": {
        "id": "b4xFBsWpko8O"
      },
      "execution_count": null,
      "outputs": []
    },
    {
      "cell_type": "markdown",
      "source": [
        "### Step 4: Add your expectations Logic and for each expectation provide an explanation of why it would be useful to business."
      ],
      "metadata": {
        "id": "ckEC-3uYXhFB"
      }
    },
    {
      "cell_type": "code",
      "source": [
        "# Explore your data and add the relevant Expectations. Loop these code cells as required for each expectation."
      ],
      "metadata": {
        "id": "E9Sm6pZGXsFi"
      },
      "execution_count": null,
      "outputs": []
    },
    {
      "cell_type": "markdown",
      "source": [
        "### Step 5: Review your expectations and document your findings.\n",
        "\n",
        "* Note: You can check your expectations by using df.get_expectation_suite() (where df is a pandas dataframe)\n",
        "\n",
        "\n"
      ],
      "metadata": {
        "id": "R5WHnAOSjrsu"
      }
    },
    {
      "cell_type": "code",
      "source": [
        "# Perform the queries to perform the relevant dataframe join operations."
      ],
      "metadata": {
        "id": "0C9ukPTuj4TV"
      },
      "execution_count": null,
      "outputs": []
    },
    {
      "cell_type": "markdown",
      "source": [
        "#### Question: Explain the different expectations that you implemented above and also provide your findings?\n",
        "\n",
        "#### *Answer*: Replace with your response"
      ],
      "metadata": {
        "id": "_XXOXAl0kX7y"
      }
    },
    {
      "cell_type": "markdown",
      "source": [
        "### Report all your Findings:\n",
        "\n",
        "<REPLACE TEXT BELOW>\n",
        "\n",
        "Report your findings in bullet points.\n",
        "Example: For illustration purpose only - replace below with your own findings and support with Evidence.\n",
        "1. The data lenth check expectation would be useful as VIN numbers are 17 characters long. The check was implemented in the following manner ..."
      ],
      "metadata": {
        "id": "Qhk3rwcsmt3H"
      }
    },
    {
      "cell_type": "markdown",
      "source": [
        "## `Acceptance Criteria`\n",
        "\n",
        "1. Only the Great Expectations framework can be used for this exercise.\n",
        "2. Implement different types of checks on the three datasets (vehicles, customers, sales_rep) data and provide your findings.\n",
        "3. Explain the checks you have implemented and how it would be useful in detecting Data quality issues to the business.  Refer to the current challenges that business has highlighted.\n",
        "4. Explain how the framework would be useful when data is stored in an RDBMS such as MySQL. Illustrate the workflow using **draw.io** and export the output in pdf format."
      ],
      "metadata": {
        "id": "Bb1_0AKGmlO0"
      }
    }
  ]
}